{
 "cells": [
  {
   "cell_type": "code",
   "execution_count": 14,
   "id": "494db5fb-50c1-453f-af73-9634c80995bc",
   "metadata": {},
   "outputs": [
    {
     "name": "stdout",
     "output_type": "stream",
     "text": [
      "ckd\n"
     ]
    },
    {
     "name": "stderr",
     "output_type": "stream",
     "text": [
      "E:\\anaconda\\envs\\tensorflow\\lib\\site-packages\\sklearn\\base.py:493: UserWarning: X does not have valid feature names, but LogisticRegression was fitted with feature names\n",
      "  warnings.warn(\n",
      "E:\\anaconda\\envs\\tensorflow\\lib\\site-packages\\sklearn\\base.py:493: UserWarning: X does not have valid feature names, but LogisticRegression was fitted with feature names\n",
      "  warnings.warn(\n"
     ]
    }
   ],
   "source": [
    "import pandas as pd\n",
    "import numpy as np\n",
    "import pickle\n",
    "# ... other imports (same)\n",
    "filename = 'kidney_logistic_regression.pkl'  # Replace with your actual filename\n",
    "\n",
    "# Open the file in binary read mode\n",
    "with open(filename, 'rb') as f:\n",
    "  # Load the model from the file\n",
    "  model = pickle.load(f)\n",
    "\n",
    "# Create a list with your data\n",
    "new_data = [48, 80, 1.02, 1, 0, 1, 1, 0, 0, 121, 36, 1.2, 135, 3.5, 15.4, 44, 7800, 5.2, 1, 1, 0, 1, 0, 0]\n",
    "\n",
    "# Create a DataFrame with column names matching your features\n",
    "#feature_names = [\"Age\", \"BP\", \"SG\", \"AL\", \"SU\", \"RBC\", \"PC\", \"PCC\", \"BA\", \"Bgr\", \"Bu\", \"SC\", \"Sod\", \"Pot\", \"Hemo\", \"Pcv\", \"WC\", \"RC\", \"Htn\", \"Dm\", \"Cad\", \"Appet\", \"Pe\", \"Ane\"]\n",
    "new_data_reshaped = np.array(new_data).reshape(1, -1)\n",
    "prediction = model.predict(new_data_reshaped)  \n",
    "\n",
    "data_reshaped = np.array(data).reshape(1, -1)  \n",
    "pred =model.predict(data_reshaped) \n",
    "if h[0]==1:\n",
    "    print(\"ckd\")\n",
    "else:\n",
    "    print(\"notckd\")"
   ]
  },
  {
   "cell_type": "code",
   "execution_count": null,
   "id": "9f0f9713-a6ea-4a23-92d5-0e7ac6f4370d",
   "metadata": {},
   "outputs": [],
   "source": []
  },
  {
   "cell_type": "code",
   "execution_count": null,
   "id": "749ccff2-7751-4111-946a-0fbc7b27b25f",
   "metadata": {},
   "outputs": [],
   "source": []
  },
  {
   "cell_type": "code",
   "execution_count": null,
   "id": "4aff1487-4618-4de4-a3e4-8d92d4ea917b",
   "metadata": {},
   "outputs": [],
   "source": []
  }
 ],
 "metadata": {
  "kernelspec": {
   "display_name": "Python 3 (ipykernel)",
   "language": "python",
   "name": "python3"
  },
  "language_info": {
   "codemirror_mode": {
    "name": "ipython",
    "version": 3
   },
   "file_extension": ".py",
   "mimetype": "text/x-python",
   "name": "python",
   "nbconvert_exporter": "python",
   "pygments_lexer": "ipython3",
   "version": "3.9.19"
  }
 },
 "nbformat": 4,
 "nbformat_minor": 5
}
